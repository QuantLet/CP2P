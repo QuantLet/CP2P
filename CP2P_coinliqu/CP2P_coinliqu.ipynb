{
 "cells": [
  {
   "cell_type": "code",
   "execution_count": 1,
   "metadata": {},
   "outputs": [],
   "source": [
    "import pandas as pd\n",
    "import numpy as np\n",
    "import matplotlib.pyplot as plt\n",
    "from pylab import plot, show, grid, xlabel, ylabel"
   ]
  },
  {
   "cell_type": "code",
   "execution_count": 2,
   "metadata": {},
   "outputs": [
    {
     "data": {
      "text/html": [
       "<div>\n",
       "<style scoped>\n",
       "    .dataframe tbody tr th:only-of-type {\n",
       "        vertical-align: middle;\n",
       "    }\n",
       "\n",
       "    .dataframe tbody tr th {\n",
       "        vertical-align: top;\n",
       "    }\n",
       "\n",
       "    .dataframe thead th {\n",
       "        text-align: right;\n",
       "    }\n",
       "</style>\n",
       "<table border=\"1\" class=\"dataframe\">\n",
       "  <thead>\n",
       "    <tr style=\"text-align: right;\">\n",
       "      <th></th>\n",
       "      <th>Unnamed: 0</th>\n",
       "      <th>Unnamed: 0.1</th>\n",
       "      <th>blockNumber</th>\n",
       "      <th>ETH</th>\n",
       "      <th>DAI</th>\n",
       "      <th>USDC</th>\n",
       "      <th>SUSD</th>\n",
       "      <th>TUSD</th>\n",
       "      <th>USDT</th>\n",
       "      <th>BUSD</th>\n",
       "      <th>...</th>\n",
       "      <th>MKR</th>\n",
       "      <th>REN</th>\n",
       "      <th>REP</th>\n",
       "      <th>SNX</th>\n",
       "      <th>UNI</th>\n",
       "      <th>WBTC</th>\n",
       "      <th>YFI</th>\n",
       "      <th>ZRX</th>\n",
       "      <th>timestamp</th>\n",
       "      <th>Date</th>\n",
       "    </tr>\n",
       "  </thead>\n",
       "  <tbody>\n",
       "    <tr>\n",
       "      <td>0</td>\n",
       "      <td>0</td>\n",
       "      <td>485096</td>\n",
       "      <td>11576735</td>\n",
       "      <td>1</td>\n",
       "      <td>0.001291</td>\n",
       "      <td>0.001285</td>\n",
       "      <td>0.001309</td>\n",
       "      <td>0.001286</td>\n",
       "      <td>0.001284</td>\n",
       "      <td>0.001286</td>\n",
       "      <td>...</td>\n",
       "      <td>0.7732</td>\n",
       "      <td>0.000399</td>\n",
       "      <td>0.021838</td>\n",
       "      <td>0.010441</td>\n",
       "      <td>0.006311</td>\n",
       "      <td>41.769276</td>\n",
       "      <td>28.508944</td>\n",
       "      <td>0.000481</td>\n",
       "      <td>2021-01-02 18:48:02</td>\n",
       "      <td>2021-01-02</td>\n",
       "    </tr>\n",
       "    <tr>\n",
       "      <td>1</td>\n",
       "      <td>1</td>\n",
       "      <td>485097</td>\n",
       "      <td>11576738</td>\n",
       "      <td>1</td>\n",
       "      <td>0.001291</td>\n",
       "      <td>0.001285</td>\n",
       "      <td>0.001309</td>\n",
       "      <td>0.001286</td>\n",
       "      <td>0.001284</td>\n",
       "      <td>0.001286</td>\n",
       "      <td>...</td>\n",
       "      <td>0.7732</td>\n",
       "      <td>0.000399</td>\n",
       "      <td>0.021549</td>\n",
       "      <td>0.010441</td>\n",
       "      <td>0.006311</td>\n",
       "      <td>41.769276</td>\n",
       "      <td>28.508944</td>\n",
       "      <td>0.000481</td>\n",
       "      <td>2021-01-02 18:48:45</td>\n",
       "      <td>2021-01-02</td>\n",
       "    </tr>\n",
       "    <tr>\n",
       "      <td>2</td>\n",
       "      <td>2</td>\n",
       "      <td>485099</td>\n",
       "      <td>11576739</td>\n",
       "      <td>1</td>\n",
       "      <td>0.001291</td>\n",
       "      <td>0.001285</td>\n",
       "      <td>0.001309</td>\n",
       "      <td>0.001286</td>\n",
       "      <td>0.001284</td>\n",
       "      <td>0.001286</td>\n",
       "      <td>...</td>\n",
       "      <td>0.7732</td>\n",
       "      <td>0.000399</td>\n",
       "      <td>0.021549</td>\n",
       "      <td>0.010441</td>\n",
       "      <td>0.006311</td>\n",
       "      <td>41.769276</td>\n",
       "      <td>28.508944</td>\n",
       "      <td>0.000481</td>\n",
       "      <td>2021-01-02 18:49:03</td>\n",
       "      <td>2021-01-02</td>\n",
       "    </tr>\n",
       "    <tr>\n",
       "      <td>3</td>\n",
       "      <td>3</td>\n",
       "      <td>485101</td>\n",
       "      <td>11576744</td>\n",
       "      <td>1</td>\n",
       "      <td>0.001291</td>\n",
       "      <td>0.001285</td>\n",
       "      <td>0.001309</td>\n",
       "      <td>0.001286</td>\n",
       "      <td>0.001284</td>\n",
       "      <td>0.001286</td>\n",
       "      <td>...</td>\n",
       "      <td>0.7732</td>\n",
       "      <td>0.000399</td>\n",
       "      <td>0.021549</td>\n",
       "      <td>0.010441</td>\n",
       "      <td>0.006311</td>\n",
       "      <td>41.769276</td>\n",
       "      <td>28.508944</td>\n",
       "      <td>0.000481</td>\n",
       "      <td>2021-01-02 18:49:34</td>\n",
       "      <td>2021-01-02</td>\n",
       "    </tr>\n",
       "    <tr>\n",
       "      <td>4</td>\n",
       "      <td>4</td>\n",
       "      <td>485102</td>\n",
       "      <td>11576746</td>\n",
       "      <td>1</td>\n",
       "      <td>0.001291</td>\n",
       "      <td>0.001285</td>\n",
       "      <td>0.001309</td>\n",
       "      <td>0.001286</td>\n",
       "      <td>0.001284</td>\n",
       "      <td>0.001286</td>\n",
       "      <td>...</td>\n",
       "      <td>0.7732</td>\n",
       "      <td>0.000399</td>\n",
       "      <td>0.021549</td>\n",
       "      <td>0.010441</td>\n",
       "      <td>0.006311</td>\n",
       "      <td>41.769276</td>\n",
       "      <td>28.508944</td>\n",
       "      <td>0.000481</td>\n",
       "      <td>2021-01-02 18:49:48</td>\n",
       "      <td>2021-01-02</td>\n",
       "    </tr>\n",
       "  </tbody>\n",
       "</table>\n",
       "<p>5 rows × 27 columns</p>\n",
       "</div>"
      ],
      "text/plain": [
       "   Unnamed: 0  Unnamed: 0.1  blockNumber  ETH       DAI      USDC      SUSD  \\\n",
       "0           0        485096     11576735    1  0.001291  0.001285  0.001309   \n",
       "1           1        485097     11576738    1  0.001291  0.001285  0.001309   \n",
       "2           2        485099     11576739    1  0.001291  0.001285  0.001309   \n",
       "3           3        485101     11576744    1  0.001291  0.001285  0.001309   \n",
       "4           4        485102     11576746    1  0.001291  0.001285  0.001309   \n",
       "\n",
       "       TUSD      USDT      BUSD  ...     MKR       REN       REP       SNX  \\\n",
       "0  0.001286  0.001284  0.001286  ...  0.7732  0.000399  0.021838  0.010441   \n",
       "1  0.001286  0.001284  0.001286  ...  0.7732  0.000399  0.021549  0.010441   \n",
       "2  0.001286  0.001284  0.001286  ...  0.7732  0.000399  0.021549  0.010441   \n",
       "3  0.001286  0.001284  0.001286  ...  0.7732  0.000399  0.021549  0.010441   \n",
       "4  0.001286  0.001284  0.001286  ...  0.7732  0.000399  0.021549  0.010441   \n",
       "\n",
       "        UNI       WBTC        YFI       ZRX            timestamp        Date  \n",
       "0  0.006311  41.769276  28.508944  0.000481  2021-01-02 18:48:02  2021-01-02  \n",
       "1  0.006311  41.769276  28.508944  0.000481  2021-01-02 18:48:45  2021-01-02  \n",
       "2  0.006311  41.769276  28.508944  0.000481  2021-01-02 18:49:03  2021-01-02  \n",
       "3  0.006311  41.769276  28.508944  0.000481  2021-01-02 18:49:34  2021-01-02  \n",
       "4  0.006311  41.769276  28.508944  0.000481  2021-01-02 18:49:48  2021-01-02  \n",
       "\n",
       "[5 rows x 27 columns]"
      ]
     },
     "execution_count": 2,
     "metadata": {},
     "output_type": "execute_result"
    }
   ],
   "source": [
    "price = pd.read_csv(\"price_sub_date.csv\")\n",
    "price.head()"
   ]
  },
  {
   "cell_type": "code",
   "execution_count": 3,
   "metadata": {},
   "outputs": [
    {
     "name": "stdout",
     "output_type": "stream",
     "text": [
      "251.89 blocks on average per day.\n"
     ]
    }
   ],
   "source": [
    "print(round(np.mean(price.blockNumber.groupby(price.Date).nunique()),2), 'blocks on average per day.')"
   ]
  },
  {
   "cell_type": "code",
   "execution_count": 4,
   "metadata": {},
   "outputs": [],
   "source": [
    "# calculate ETH prices in USDT\n",
    "price['Price'] = pd.Series()\n",
    "price['Price'] = price.ETH/price.USDT"
   ]
  },
  {
   "cell_type": "code",
   "execution_count": 5,
   "metadata": {},
   "outputs": [
    {
     "data": {
      "image/png": "[encoded data removed]",
      "text/plain": [
       "<Figure size 432x288 with 1 Axes>"
      ]
     },
     "metadata": {
      "needs_background": "light"
     },
     "output_type": "display_data"
    }
   ],
   "source": [
    "# prices over one year\n",
    "plt.plot(price.Date, price.Price)\n",
    "plt.gca().xaxis.set_major_locator(plt.MultipleLocator(79))"
   ]
  },
  {
   "cell_type": "code",
   "execution_count": 6,
   "metadata": {},
   "outputs": [
    {
     "name": "stdout",
     "output_type": "stream",
     "text": [
      "248.1 blocks on average per day in June.\n"
     ]
    }
   ],
   "source": [
    "# june\n",
    "x,y = price.loc[price['Date']=='2021-06-01'].iloc[0,0], price.loc[price['Date']=='2021-06-30'].iloc[-1,0]\n",
    "subset = price[x:y+1].reset_index(drop=True)\n",
    "\n",
    "print(round(np.mean(subset.blockNumber.groupby(subset.Date).nunique()),2), 'blocks on average per day in June.')"
   ]
  },
  {
   "cell_type": "code",
   "execution_count": 7,
   "metadata": {},
   "outputs": [
    {
     "name": "stdout",
     "output_type": "stream",
     "text": [
      "BC = 6903.079190146284 \n",
      "H0 = 2352.9411764705883 \n",
      "S(0) = 2707.089878488739 \n",
      "C(0) = 8121.269635466217\n",
      "Borrower obtains a loan q = 6000 with an initial LTV ratio of LTV = 0.7388007379779059\n"
     ]
    }
   ],
   "source": [
    "'''\n",
    "example contract\n",
    "'''\n",
    "\n",
    "LTVH  = 0.85                  # liquidation threshold LTV\n",
    "gamma = 0.1                   # contract interest payment\n",
    "\n",
    "q0   = 6000                   # initial debt\n",
    "\n",
    "N0   = 3                      # initial number of coins\n",
    "\n",
    "S0   = subset.Price[0]\n",
    "C0   = N0*S0                  # collateral\n",
    "BC0  = LTVH*C0                # borrowing capacity\n",
    "H0   = q0/(LTVH*N0)           # initial liquidation threshold in unit of price\n",
    "print('BC =', BC0, '\\nH0 =', H0, '\\nS(0) =', S0, '\\nC(0) =', C0)\n",
    "\n",
    "LTV0 = q0/C0                  # initial LTV\n",
    "print('Borrower obtains a loan q =', q0, 'with an initial LTV ratio of LTV =',LTV0)"
   ]
  },
  {
   "cell_type": "code",
   "execution_count": 8,
   "metadata": {},
   "outputs": [],
   "source": [
    "'''\n",
    "coin liquidation function\n",
    "'''\n",
    "def Ni(N0, LTV):\n",
    "    N = N0*(1-(LTV/(2*LB)))\n",
    "    \n",
    "    if LTV > 2*LB:\n",
    "        N = 0\n",
    "    if N <= 0.0001:\n",
    "        N = 0\n",
    "    \n",
    "    return N    "
   ]
  },
  {
   "cell_type": "code",
   "execution_count": 9,
   "metadata": {},
   "outputs": [],
   "source": [
    "pd.options.mode.chained_assignment = None \n",
    "contract = subset[['blockNumber', 'Date', 'timestamp', 'Price']]\n",
    "\n",
    "contract['Threshold'] = pd.Series()\n",
    "contract.Threshold[0] = H0\n",
    "\n",
    "contract['Coins'] = pd.Series()\n",
    "contract.Coins    = N0\n",
    "\n",
    "contract['Collateral'] = pd.Series()\n",
    "contract.Collateral[0] = C0\n",
    "\n",
    "contract['Debt'] = pd.Series()\n",
    "contract.Debt[0] = q0\n",
    "\n",
    "contract['LTV'] = pd.Series()\n",
    "contract.LTV[0] = LTV0\n",
    "\n",
    "contract['Liquidations'] = pd.Series()\n",
    "contract.Liquidations    = 0\n",
    "\n",
    "T  = 61/365           # time horizon compared to one year (for annual interest)\n",
    "dt = T/len(contract)  # time steps\n",
    "\n",
    "#contract.head()\n",
    "#contract\n",
    "\n",
    "'''\n",
    "construction of contract over time in two datasets\n",
    "Assumption: borrower never takes action to avoid liquidation\n",
    "\n",
    "dataset liqu contains information only about liquidation events; contract is whole development over time\n",
    "'''\n",
    "\n",
    "L  = 0           # number of liquidations\n",
    "LB = 0.95        # liquidation penalty\n",
    "\n",
    "liqu = contract.iloc[0:1]\n",
    "for i in range(1, len(contract)):\n",
    "    # calculate LTV in every block\n",
    "    contract.Debt[i]       = contract.Debt[i-1]*np.exp(gamma*dt)\n",
    "    contract.Collateral[i] = contract.Coins[i]*contract.Price[i]\n",
    "    contract.Threshold[i]  = contract.Debt[i]/(contract.Coins[i]*LTVH)\n",
    "    contract.LTV[i]        = contract.Debt[i]/contract.Collateral[i]\n",
    "    \n",
    "    # check if LTV is too high and calculate liquidation, if necessary\n",
    "    if contract.LTV[i] >= LTVH:\n",
    "        # data before liquidation\n",
    "        liqu.loc[r'$\\tau_{}^-$'.format(L)] = contract.iloc[i]\n",
    "        \n",
    "        L += 1\n",
    "        contract.Liquidations[i:] = L\n",
    "        \n",
    "        # update data\n",
    "        contract.Coins[i:]     = Ni(contract.Coins[i], contract.LTV[i])\n",
    "        \n",
    "        # delete contract, if all coins gone\n",
    "        if contract.Coins[i] == 0:\n",
    "            contract.Debt[i:]       = 0\n",
    "            contract.Collateral[i:] = 0\n",
    "            contract.LTV[i:]        = 'NaN'\n",
    "            contract.Threshold[i:]  = 'NaN'\n",
    "            break \n",
    "            \n",
    "        contract.Debt[i]       = contract.Debt[i]/2\n",
    "        contract.Collateral[i] = contract.Coins[i]*contract.Price[i]\n",
    "        contract.LTV[i]        = contract.Debt[i]/contract.Collateral[i]\n",
    "        contract.Threshold[i]  = contract.Debt[i]/(contract.Coins[i]*LTVH)\n",
    "        \n",
    "        # data after liquidation\n",
    "        liqu.loc[r'$\\tau_{}^+$'.format(L)] = contract.iloc[i]"
   ]
  },
  {
   "cell_type": "code",
   "execution_count": 10,
   "metadata": {},
   "outputs": [
    {
     "data": {
      "text/html": [
       "<div>\n",
       "<style scoped>\n",
       "    .dataframe tbody tr th:only-of-type {\n",
       "        vertical-align: middle;\n",
       "    }\n",
       "\n",
       "    .dataframe tbody tr th {\n",
       "        vertical-align: top;\n",
       "    }\n",
       "\n",
       "    .dataframe thead th {\n",
       "        text-align: right;\n",
       "    }\n",
       "</style>\n",
       "<table border=\"1\" class=\"dataframe\">\n",
       "  <thead>\n",
       "    <tr style=\"text-align: right;\">\n",
       "      <th></th>\n",
       "      <th>blockNumber</th>\n",
       "      <th>Date</th>\n",
       "      <th>timestamp</th>\n",
       "      <th>Price</th>\n",
       "      <th>Threshold</th>\n",
       "      <th>Coins</th>\n",
       "      <th>Collateral</th>\n",
       "      <th>Debt</th>\n",
       "      <th>LTV</th>\n",
       "      <th>Liquidations</th>\n",
       "    </tr>\n",
       "  </thead>\n",
       "  <tbody>\n",
       "    <tr>\n",
       "      <td>0</td>\n",
       "      <td>12545271</td>\n",
       "      <td>2021-06-01</td>\n",
       "      <td>2021-06-01 00:10:04</td>\n",
       "      <td>2707.089878</td>\n",
       "      <td>2352.941176</td>\n",
       "      <td>3.000000</td>\n",
       "      <td>8121.269635</td>\n",
       "      <td>6000.000000</td>\n",
       "      <td>0.738801</td>\n",
       "      <td>0</td>\n",
       "    </tr>\n",
       "    <tr>\n",
       "      <td>$\\tau_0^-$</td>\n",
       "      <td>12594676</td>\n",
       "      <td>2021-06-08</td>\n",
       "      <td>2021-06-08 15:24:54</td>\n",
       "      <td>2340.276153</td>\n",
       "      <td>2363.536717</td>\n",
       "      <td>3.000000</td>\n",
       "      <td>7020.828458</td>\n",
       "      <td>6027.018628</td>\n",
       "      <td>0.858448</td>\n",
       "      <td>0</td>\n",
       "    </tr>\n",
       "    <tr>\n",
       "      <td>$\\tau_1^+$</td>\n",
       "      <td>12594676</td>\n",
       "      <td>2021-06-08</td>\n",
       "      <td>2021-06-08 15:24:54</td>\n",
       "      <td>2340.276153</td>\n",
       "      <td>2155.783526</td>\n",
       "      <td>1.644555</td>\n",
       "      <td>3848.713390</td>\n",
       "      <td>3013.509314</td>\n",
       "      <td>0.782991</td>\n",
       "      <td>1</td>\n",
       "    </tr>\n",
       "    <tr>\n",
       "      <td>$\\tau_1^-$</td>\n",
       "      <td>12660070</td>\n",
       "      <td>2021-06-18</td>\n",
       "      <td>2021-06-18 18:33:40</td>\n",
       "      <td>2163.893277</td>\n",
       "      <td>2168.176921</td>\n",
       "      <td>1.644555</td>\n",
       "      <td>3558.642009</td>\n",
       "      <td>3030.833693</td>\n",
       "      <td>0.851683</td>\n",
       "      <td>1</td>\n",
       "    </tr>\n",
       "    <tr>\n",
       "      <td>$\\tau_2^+$</td>\n",
       "      <td>12660070</td>\n",
       "      <td>2021-06-18</td>\n",
       "      <td>2021-06-18 18:33:40</td>\n",
       "      <td>2163.893277</td>\n",
       "      <td>1964.832591</td>\n",
       "      <td>0.907377</td>\n",
       "      <td>1963.466381</td>\n",
       "      <td>1515.416847</td>\n",
       "      <td>0.771807</td>\n",
       "      <td>2</td>\n",
       "    </tr>\n",
       "    <tr>\n",
       "      <td>$\\tau_2^-$</td>\n",
       "      <td>12677119</td>\n",
       "      <td>2021-06-21</td>\n",
       "      <td>2021-06-21 10:35:25</td>\n",
       "      <td>1956.335242</td>\n",
       "      <td>1967.720019</td>\n",
       "      <td>0.907377</td>\n",
       "      <td>1775.133053</td>\n",
       "      <td>1517.643834</td>\n",
       "      <td>0.854947</td>\n",
       "      <td>2</td>\n",
       "    </tr>\n",
       "    <tr>\n",
       "      <td>$\\tau_3^+$</td>\n",
       "      <td>12677119</td>\n",
       "      <td>2021-06-21</td>\n",
       "      <td>2021-06-21 10:35:25</td>\n",
       "      <td>1956.335242</td>\n",
       "      <td>1788.744846</td>\n",
       "      <td>0.499083</td>\n",
       "      <td>976.373140</td>\n",
       "      <td>758.821917</td>\n",
       "      <td>0.777184</td>\n",
       "      <td>3</td>\n",
       "    </tr>\n",
       "    <tr>\n",
       "      <td>$\\tau_3^-$</td>\n",
       "      <td>12684089</td>\n",
       "      <td>2021-06-22</td>\n",
       "      <td>2021-06-22 12:46:55</td>\n",
       "      <td>1771.793055</td>\n",
       "      <td>1790.179277</td>\n",
       "      <td>0.499083</td>\n",
       "      <td>884.271321</td>\n",
       "      <td>759.430432</td>\n",
       "      <td>0.858821</td>\n",
       "      <td>3</td>\n",
       "    </tr>\n",
       "    <tr>\n",
       "      <td>$\\tau_4^+$</td>\n",
       "      <td>12684089</td>\n",
       "      <td>2021-06-22</td>\n",
       "      <td>2021-06-22 12:46:55</td>\n",
       "      <td>1771.793055</td>\n",
       "      <td>1633.407579</td>\n",
       "      <td>0.273492</td>\n",
       "      <td>484.571093</td>\n",
       "      <td>379.715216</td>\n",
       "      <td>0.783611</td>\n",
       "      <td>4</td>\n",
       "    </tr>\n",
       "  </tbody>\n",
       "</table>\n",
       "</div>"
      ],
      "text/plain": [
       "            blockNumber        Date            timestamp        Price  \\\n",
       "0              12545271  2021-06-01  2021-06-01 00:10:04  2707.089878   \n",
       "$\\tau_0^-$     12594676  2021-06-08  2021-06-08 15:24:54  2340.276153   \n",
       "$\\tau_1^+$     12594676  2021-06-08  2021-06-08 15:24:54  2340.276153   \n",
       "$\\tau_1^-$     12660070  2021-06-18  2021-06-18 18:33:40  2163.893277   \n",
       "$\\tau_2^+$     12660070  2021-06-18  2021-06-18 18:33:40  2163.893277   \n",
       "$\\tau_2^-$     12677119  2021-06-21  2021-06-21 10:35:25  1956.335242   \n",
       "$\\tau_3^+$     12677119  2021-06-21  2021-06-21 10:35:25  1956.335242   \n",
       "$\\tau_3^-$     12684089  2021-06-22  2021-06-22 12:46:55  1771.793055   \n",
       "$\\tau_4^+$     12684089  2021-06-22  2021-06-22 12:46:55  1771.793055   \n",
       "\n",
       "              Threshold     Coins   Collateral         Debt       LTV  \\\n",
       "0           2352.941176  3.000000  8121.269635  6000.000000  0.738801   \n",
       "$\\tau_0^-$  2363.536717  3.000000  7020.828458  6027.018628  0.858448   \n",
       "$\\tau_1^+$  2155.783526  1.644555  3848.713390  3013.509314  0.782991   \n",
       "$\\tau_1^-$  2168.176921  1.644555  3558.642009  3030.833693  0.851683   \n",
       "$\\tau_2^+$  1964.832591  0.907377  1963.466381  1515.416847  0.771807   \n",
       "$\\tau_2^-$  1967.720019  0.907377  1775.133053  1517.643834  0.854947   \n",
       "$\\tau_3^+$  1788.744846  0.499083   976.373140   758.821917  0.777184   \n",
       "$\\tau_3^-$  1790.179277  0.499083   884.271321   759.430432  0.858821   \n",
       "$\\tau_4^+$  1633.407579  0.273492   484.571093   379.715216  0.783611   \n",
       "\n",
       "            Liquidations  \n",
       "0                      0  \n",
       "$\\tau_0^-$             0  \n",
       "$\\tau_1^+$             1  \n",
       "$\\tau_1^-$             1  \n",
       "$\\tau_2^+$             2  \n",
       "$\\tau_2^-$             2  \n",
       "$\\tau_3^+$             3  \n",
       "$\\tau_3^-$             3  \n",
       "$\\tau_4^+$             4  "
      ]
     },
     "execution_count": 10,
     "metadata": {},
     "output_type": "execute_result"
    }
   ],
   "source": [
    "liqu"
   ]
  },
  {
   "cell_type": "code",
   "execution_count": 11,
   "metadata": {},
   "outputs": [
    {
     "data": {
      "text/html": [
       "<div>\n",
       "<style scoped>\n",
       "    .dataframe tbody tr th:only-of-type {\n",
       "        vertical-align: middle;\n",
       "    }\n",
       "\n",
       "    .dataframe tbody tr th {\n",
       "        vertical-align: top;\n",
       "    }\n",
       "\n",
       "    .dataframe thead th {\n",
       "        text-align: right;\n",
       "    }\n",
       "</style>\n",
       "<table border=\"1\" class=\"dataframe\">\n",
       "  <thead>\n",
       "    <tr style=\"text-align: right;\">\n",
       "      <th></th>\n",
       "      <th>blockNumber</th>\n",
       "      <th>Date</th>\n",
       "      <th>timestamp</th>\n",
       "      <th>Price</th>\n",
       "      <th>Threshold</th>\n",
       "      <th>Coins</th>\n",
       "      <th>Collateral</th>\n",
       "      <th>Debt</th>\n",
       "      <th>LTV</th>\n",
       "      <th>Liquidations</th>\n",
       "    </tr>\n",
       "  </thead>\n",
       "  <tbody>\n",
       "    <tr>\n",
       "      <td>7438</td>\n",
       "      <td>12738400</td>\n",
       "      <td>2021-06-30</td>\n",
       "      <td>2021-06-30 23:35:58</td>\n",
       "      <td>2257.85</td>\n",
       "      <td>1640.291484</td>\n",
       "      <td>0.273492</td>\n",
       "      <td>617.503743</td>\n",
       "      <td>381.315504</td>\n",
       "      <td>0.617511</td>\n",
       "      <td>4</td>\n",
       "    </tr>\n",
       "    <tr>\n",
       "      <td>7439</td>\n",
       "      <td>12738417</td>\n",
       "      <td>2021-06-30</td>\n",
       "      <td>2021-06-30 23:38:54</td>\n",
       "      <td>2257.85</td>\n",
       "      <td>1640.295167</td>\n",
       "      <td>0.273492</td>\n",
       "      <td>617.503743</td>\n",
       "      <td>381.316361</td>\n",
       "      <td>0.617513</td>\n",
       "      <td>4</td>\n",
       "    </tr>\n",
       "    <tr>\n",
       "      <td>7440</td>\n",
       "      <td>12738483</td>\n",
       "      <td>2021-06-30</td>\n",
       "      <td>2021-06-30 23:54:48</td>\n",
       "      <td>2257.85</td>\n",
       "      <td>1640.298850</td>\n",
       "      <td>0.273492</td>\n",
       "      <td>617.503743</td>\n",
       "      <td>381.317217</td>\n",
       "      <td>0.617514</td>\n",
       "      <td>4</td>\n",
       "    </tr>\n",
       "    <tr>\n",
       "      <td>7441</td>\n",
       "      <td>12738501</td>\n",
       "      <td>2021-06-30</td>\n",
       "      <td>2021-06-30 23:58:26</td>\n",
       "      <td>2257.85</td>\n",
       "      <td>1640.302533</td>\n",
       "      <td>0.273492</td>\n",
       "      <td>617.503743</td>\n",
       "      <td>381.318073</td>\n",
       "      <td>0.617515</td>\n",
       "      <td>4</td>\n",
       "    </tr>\n",
       "    <tr>\n",
       "      <td>7442</td>\n",
       "      <td>12738502</td>\n",
       "      <td>2021-06-30</td>\n",
       "      <td>2021-06-30 23:58:30</td>\n",
       "      <td>2257.85</td>\n",
       "      <td>1640.306216</td>\n",
       "      <td>0.273492</td>\n",
       "      <td>617.503743</td>\n",
       "      <td>381.318929</td>\n",
       "      <td>0.617517</td>\n",
       "      <td>4</td>\n",
       "    </tr>\n",
       "  </tbody>\n",
       "</table>\n",
       "</div>"
      ],
      "text/plain": [
       "      blockNumber        Date            timestamp    Price    Threshold  \\\n",
       "7438     12738400  2021-06-30  2021-06-30 23:35:58  2257.85  1640.291484   \n",
       "7439     12738417  2021-06-30  2021-06-30 23:38:54  2257.85  1640.295167   \n",
       "7440     12738483  2021-06-30  2021-06-30 23:54:48  2257.85  1640.298850   \n",
       "7441     12738501  2021-06-30  2021-06-30 23:58:26  2257.85  1640.302533   \n",
       "7442     12738502  2021-06-30  2021-06-30 23:58:30  2257.85  1640.306216   \n",
       "\n",
       "         Coins  Collateral        Debt       LTV  Liquidations  \n",
       "7438  0.273492  617.503743  381.315504  0.617511             4  \n",
       "7439  0.273492  617.503743  381.316361  0.617513             4  \n",
       "7440  0.273492  617.503743  381.317217  0.617514             4  \n",
       "7441  0.273492  617.503743  381.318073  0.617515             4  \n",
       "7442  0.273492  617.503743  381.318929  0.617517             4  "
      ]
     },
     "execution_count": 11,
     "metadata": {},
     "output_type": "execute_result"
    }
   ],
   "source": [
    "contract.tail()"
   ]
  },
  {
   "cell_type": "code",
   "execution_count": 12,
   "metadata": {},
   "outputs": [
    {
     "name": "stdout",
     "output_type": "stream",
     "text": [
      "\\begin{tabular}{lrllrrrrrrr}\n",
      "\\toprule\n",
      "{} &  blockNumber &        Date &            timestamp &   Price &  Threshold &  Coins &  Collateral &    Debt &  LTV &  Liquidations \\\\\n",
      "\\midrule\n",
      "0          &     12545271 &  2021-06-01 &  2021-06-01 00:10:04 & 2707.09 &    2352.94 &   3.00 &     8121.27 & 6000.00 & 0.74 &             0 \\\\\n",
      "\\$\\textbackslash tau\\_0\\textasciicircum -\\$ &     12594676 &  2021-06-08 &  2021-06-08 15:24:54 & 2340.28 &    2363.54 &   3.00 &     7020.83 & 6027.02 & 0.86 &             0 \\\\\n",
      "\\$\\textbackslash tau\\_1\\textasciicircum +\\$ &     12594676 &  2021-06-08 &  2021-06-08 15:24:54 & 2340.28 &    2155.78 &   1.64 &     3848.71 & 3013.51 & 0.78 &             1 \\\\\n",
      "\\$\\textbackslash tau\\_1\\textasciicircum -\\$ &     12660070 &  2021-06-18 &  2021-06-18 18:33:40 & 2163.89 &    2168.18 &   1.64 &     3558.64 & 3030.83 & 0.85 &             1 \\\\\n",
      "\\$\\textbackslash tau\\_2\\textasciicircum +\\$ &     12660070 &  2021-06-18 &  2021-06-18 18:33:40 & 2163.89 &    1964.83 &   0.91 &     1963.47 & 1515.42 & 0.77 &             2 \\\\\n",
      "\\$\\textbackslash tau\\_2\\textasciicircum -\\$ &     12677119 &  2021-06-21 &  2021-06-21 10:35:25 & 1956.34 &    1967.72 &   0.91 &     1775.13 & 1517.64 & 0.85 &             2 \\\\\n",
      "\\$\\textbackslash tau\\_3\\textasciicircum +\\$ &     12677119 &  2021-06-21 &  2021-06-21 10:35:25 & 1956.34 &    1788.74 &   0.50 &      976.37 &  758.82 & 0.78 &             3 \\\\\n",
      "\\$\\textbackslash tau\\_3\\textasciicircum -\\$ &     12684089 &  2021-06-22 &  2021-06-22 12:46:55 & 1771.79 &    1790.18 &   0.50 &      884.27 &  759.43 & 0.86 &             3 \\\\\n",
      "\\$\\textbackslash tau\\_4\\textasciicircum +\\$ &     12684089 &  2021-06-22 &  2021-06-22 12:46:55 & 1771.79 &    1633.41 &   0.27 &      484.57 &  379.72 & 0.78 &             4 \\\\\n",
      "\\bottomrule\n",
      "\\end{tabular}\n",
      "\n"
     ]
    }
   ],
   "source": [
    "# translate into .tex table\n",
    "print(liqu.to_latex(float_format=\"%.2f\"))"
   ]
  },
  {
   "cell_type": "code",
   "execution_count": 13,
   "metadata": {},
   "outputs": [
    {
     "data": {
      "image/png": "[encoded data removed]",
      "text/plain": [
       "<Figure size 432x288 with 1 Axes>"
      ]
     },
     "metadata": {
      "needs_background": "light"
     },
     "output_type": "display_data"
    }
   ],
   "source": [
    "fig, ax = plt.subplots()\n",
    "\n",
    "ax.plot(contract.Price)\n",
    "plt.gca().xaxis.set_major_locator(plt.MultipleLocator(1850))\n",
    "plt.show()"
   ]
  },
  {
   "cell_type": "code",
   "execution_count": 14,
   "metadata": {},
   "outputs": [],
   "source": [
    "# Added block time\n",
    "labels = []\n",
    "for item in ax.get_xticklabels():\n",
    "    d = int(item.get_unitless_position()[0])\n",
    "    try:\n",
    "        labels.append(contract.Date[d])\n",
    "    except:\n",
    "        labels.append(' ')"
   ]
  },
  {
   "cell_type": "code",
   "execution_count": 15,
   "metadata": {},
   "outputs": [
    {
     "data": {
      "image/png": "[encoded data removed]",
      "text/plain": [
       "<Figure size 432x288 with 1 Axes>"
      ]
     },
     "metadata": {
      "needs_background": "light"
     },
     "output_type": "display_data"
    }
   ],
   "source": [
    "fig, ax = plt.subplots()\n",
    "\n",
    "ax.plot(contract.Price)\n",
    "plt.gca().xaxis.set_major_locator(plt.MultipleLocator(1850))\n",
    "ax.set_xticklabels(labels)\n",
    "plt.show()"
   ]
  },
  {
   "cell_type": "code",
   "execution_count": 16,
   "metadata": {},
   "outputs": [
    {
     "data": {
      "text/plain": [
       "[0, 2001, 4554, 5208]"
      ]
     },
     "execution_count": 16,
     "metadata": {},
     "output_type": "execute_result"
    }
   ],
   "source": [
    "liqu_index = []\n",
    "for item in range(L):\n",
    "    liqu_index.append(contract[(contract.Liquidations == item)].iloc[0].name)\n",
    "    \n",
    "liqu_index"
   ]
  },
  {
   "cell_type": "code",
   "execution_count": 17,
   "metadata": {},
   "outputs": [
    {
     "data": {
      "image/png": "[encoded data removed]",
      "text/plain": [
       "<Figure size 432x288 with 1 Axes>"
      ]
     },
     "metadata": {
      "needs_background": "light"
     },
     "output_type": "display_data"
    }
   ],
   "source": [
    "fig, ax = plt.subplots()\n",
    "\n",
    "plt.plot(contract.index, contract.Price)\n",
    "for i in range(len(liqu_index)):\n",
    "    plt.axvline(x = liqu_index[i], color='r', linestyle=':')\n",
    "plt.gca().xaxis.set_major_locator(plt.MultipleLocator(1800))\n",
    "ax.set_xticklabels(labels)\n",
    "\n",
    "plt.margins(0,0.05)\n",
    "#plt.savefig('liquidations_june.png', transparent=True)\n",
    "plt.show()"
   ]
  },
  {
   "cell_type": "code",
   "execution_count": 18,
   "metadata": {},
   "outputs": [
    {
     "data": {
      "image/png": "[encoded data removed]",
      "text/plain": [
       "<Figure size 432x288 with 1 Axes>"
      ]
     },
     "metadata": {
      "needs_background": "light"
     },
     "output_type": "display_data"
    },
    {
     "name": "stdout",
     "output_type": "stream",
     "text": [
      "Development of the number of coins in a loan that suffered from 4 liquidations in total\n"
     ]
    }
   ],
   "source": [
    "fig, ax = plt.subplots()\n",
    "\n",
    "ax.plot(contract.Coins)\n",
    "ax.set_xticklabels(labels)\n",
    "plt.gca().xaxis.set_major_locator(plt.MultipleLocator(1850))\n",
    "xlabel('Date')\n",
    "ylabel('Number of Coins')\n",
    "\n",
    "plt.margins(0,0.05)\n",
    "#plt.savefig('coins_june.png', transparent=True)\n",
    "show()\n",
    "print('Development of the number of coins in a loan that suffered from', contract.Liquidations.iloc[-1], 'liquidations in total')"
   ]
  },
  {
   "cell_type": "code",
   "execution_count": 19,
   "metadata": {},
   "outputs": [
    {
     "data": {
      "image/png": "[encoded data removed]",
      "text/plain": [
       "<Figure size 432x288 with 1 Axes>"
      ]
     },
     "metadata": {
      "needs_background": "light"
     },
     "output_type": "display_data"
    }
   ],
   "source": [
    "fig, ax = plt.subplots()\n",
    "\n",
    "ax.plot(contract.Price)\n",
    "ax.plot(contract.Threshold, label='Price Threshold', color='r', linestyle=':')\n",
    "#ax.plot(contract.Threshold, label='Price Threshold', color='r', linestyle='dashed')\n",
    "ax.set_xticklabels(labels)\n",
    "plt.gca().xaxis.set_major_locator(plt.MultipleLocator(1800))\n",
    "\n",
    "xlabel('Date')\n",
    "\n",
    "plt.margins(0,0.05)\n",
    "#plt.savefig('pricethreshold_june.png', transparent=True)\n",
    "show()"
   ]
  },
  {
   "cell_type": "code",
   "execution_count": 20,
   "metadata": {},
   "outputs": [
    {
     "data": {
      "image/png": "[encoded data removed]",
      "text/plain": [
       "<Figure size 432x288 with 1 Axes>"
      ]
     },
     "metadata": {
      "needs_background": "light"
     },
     "output_type": "display_data"
    }
   ],
   "source": [
    "fig, ax = plt.subplots()\n",
    "\n",
    "ax.plot(contract.Collateral)\n",
    "ax.plot(contract.Threshold*contract.Coins, color='r', linestyle=':')\n",
    "ax.plot(contract.Debt, color='darkgreen', linestyle='dashed')\n",
    "ax.set_xticklabels(labels)\n",
    "plt.gca().xaxis.set_major_locator(plt.MultipleLocator(1800))\n",
    "\n",
    "xlabel('Date')\n",
    "\n",
    "plt.margins(0,0.05)\n",
    "#plt.savefig('collateral_june.png', transparent=True)\n",
    "show()"
   ]
  }
 ],
 "metadata": {
  "kernelspec": {
   "display_name": "Python 3",
   "language": "python",
   "name": "python3"
  },
  "language_info": {
   "codemirror_mode": {
    "name": "ipython",
    "version": 3
   },
   "file_extension": ".py",
   "mimetype": "text/x-python",
   "name": "python",
   "nbconvert_exporter": "python",
   "pygments_lexer": "ipython3",
   "version": "3.7.4"
  }
 },
 "nbformat": 4,
 "nbformat_minor": 4
}
